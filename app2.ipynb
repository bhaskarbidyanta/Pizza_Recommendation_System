{
 "cells": [
  {
   "cell_type": "code",
   "execution_count": 24,
   "id": "35ad4e41",
   "metadata": {},
   "outputs": [],
   "source": [
    "import numpy as np\n",
    "import pandas as pd\n",
    "import sklearn\n",
    "import matplotlib.pyplot as plt\n",
    "import seaborn as sns\n",
    "import warnings\n",
    "warnings.filterwarnings(action=\"ignore\", category=FutureWarning)"
   ]
  },
  {
   "cell_type": "code",
   "execution_count": 25,
   "id": "b406623f",
   "metadata": {},
   "outputs": [
    {
     "name": "stdout",
     "output_type": "stream",
     "text": [
      "   Unnamed: 0  pizza_id  order_id  pizza_name_id  quantity  order_date  \\\n",
      "0           0         1         1     hawaiian_m         1  01-01-2015   \n",
      "1           1         2         2  classic_dlx_m         1  01-01-2015   \n",
      "2           2         3         2  five_cheese_l         1  01-01-2015   \n",
      "3           3         4         2    ital_supr_l         1  01-01-2015   \n",
      "4           4         5         2     mexicana_m         1  01-01-2015   \n",
      "\n",
      "  order_day order_time  unit_price  total_price pizza_size pizza_category  \\\n",
      "0  Thursday   11:38:36       13.25        13.25          M        Classic   \n",
      "1  Thursday   11:57:40       16.00        16.00          M        Classic   \n",
      "2  Thursday   11:57:40       18.50        18.50          L         Veggie   \n",
      "3  Thursday   11:57:40       20.75        20.75          L        Supreme   \n",
      "4  Thursday   11:57:40       16.00        16.00          M         Veggie   \n",
      "\n",
      "                                   pizza_ingredients  \\\n",
      "0           Sliced Ham, Pineapple, Mozzarella Cheese   \n",
      "1  Pepperoni, Mushrooms, Red Onions, Red Peppers,...   \n",
      "2  Mozzarella Cheese, Provolone Cheese, Smoked Go...   \n",
      "3  Calabrese Salami, Capocollo, Tomatoes, Red Oni...   \n",
      "4  Tomatoes, Red Peppers, Jalapeno Peppers, Red O...   \n",
      "\n",
      "                  pizza_name  \n",
      "0         The Hawaiian Pizza  \n",
      "1   The Classic Deluxe Pizza  \n",
      "2      The Five Cheese Pizza  \n",
      "3  The Italian Supreme Pizza  \n",
      "4         The Mexicana Pizza  \n"
     ]
    }
   ],
   "source": [
    "pizza = pd.read_csv(\"Pizza_sales_dataset_proper.csv\")\n",
    "print(pizza.head())"
   ]
  },
  {
   "cell_type": "code",
   "execution_count": 28,
   "id": "412d83a0",
   "metadata": {},
   "outputs": [
    {
     "data": {
      "text/plain": [
       "quantity\n",
       "1    47693\n",
       "2      903\n",
       "3       21\n",
       "4        3\n",
       "Name: count, dtype: int64"
      ]
     },
     "execution_count": 28,
     "metadata": {},
     "output_type": "execute_result"
    }
   ],
   "source": [
    "pizza['quantity'].value_counts()"
   ]
  },
  {
   "cell_type": "code",
   "execution_count": 27,
   "id": "bf62e7fc",
   "metadata": {},
   "outputs": [
    {
     "data": {
      "text/plain": [
       "array([1, 2, 3, 4])"
      ]
     },
     "execution_count": 27,
     "metadata": {},
     "output_type": "execute_result"
    }
   ],
   "source": [
    "pizza['quantity'].unique()"
   ]
  },
  {
   "cell_type": "code",
   "execution_count": 4,
   "id": "0467957c",
   "metadata": {},
   "outputs": [
    {
     "name": "stdout",
     "output_type": "stream",
     "text": [
      "<class 'pandas.core.frame.DataFrame'>\n",
      "RangeIndex: 48620 entries, 0 to 48619\n",
      "Data columns (total 14 columns):\n",
      " #   Column             Non-Null Count  Dtype  \n",
      "---  ------             --------------  -----  \n",
      " 0   Unnamed: 0         48620 non-null  int64  \n",
      " 1   pizza_id           48620 non-null  int64  \n",
      " 2   order_id           48620 non-null  int64  \n",
      " 3   pizza_name_id      48620 non-null  object \n",
      " 4   quantity           48620 non-null  int64  \n",
      " 5   order_date         48620 non-null  object \n",
      " 6   order_day          48620 non-null  object \n",
      " 7   order_time         48620 non-null  object \n",
      " 8   unit_price         48620 non-null  float64\n",
      " 9   total_price        48620 non-null  float64\n",
      " 10  pizza_size         48620 non-null  object \n",
      " 11  pizza_category     48620 non-null  object \n",
      " 12  pizza_ingredients  48620 non-null  object \n",
      " 13  pizza_name         48620 non-null  object \n",
      "dtypes: float64(2), int64(4), object(8)\n",
      "memory usage: 5.2+ MB\n"
     ]
    }
   ],
   "source": [
    "pizza.info()"
   ]
  },
  {
   "cell_type": "code",
   "execution_count": 3,
   "id": "b1009760",
   "metadata": {},
   "outputs": [
    {
     "data": {
      "text/html": [
       "<div>\n",
       "<style scoped>\n",
       "    .dataframe tbody tr th:only-of-type {\n",
       "        vertical-align: middle;\n",
       "    }\n",
       "\n",
       "    .dataframe tbody tr th {\n",
       "        vertical-align: top;\n",
       "    }\n",
       "\n",
       "    .dataframe thead th {\n",
       "        text-align: right;\n",
       "    }\n",
       "</style>\n",
       "<table border=\"1\" class=\"dataframe\">\n",
       "  <thead>\n",
       "    <tr style=\"text-align: right;\">\n",
       "      <th></th>\n",
       "      <th>Unnamed: 0</th>\n",
       "      <th>pizza_id</th>\n",
       "      <th>order_id</th>\n",
       "      <th>quantity</th>\n",
       "      <th>unit_price</th>\n",
       "      <th>total_price</th>\n",
       "    </tr>\n",
       "  </thead>\n",
       "  <tbody>\n",
       "    <tr>\n",
       "      <th>count</th>\n",
       "      <td>48620.000000</td>\n",
       "      <td>48620.000000</td>\n",
       "      <td>48620.000000</td>\n",
       "      <td>48620.000000</td>\n",
       "      <td>48620.000000</td>\n",
       "      <td>48620.000000</td>\n",
       "    </tr>\n",
       "    <tr>\n",
       "      <th>mean</th>\n",
       "      <td>24309.500000</td>\n",
       "      <td>24310.500000</td>\n",
       "      <td>10701.479761</td>\n",
       "      <td>1.019622</td>\n",
       "      <td>16.494132</td>\n",
       "      <td>16.821474</td>\n",
       "    </tr>\n",
       "    <tr>\n",
       "      <th>std</th>\n",
       "      <td>14035.529381</td>\n",
       "      <td>14035.529381</td>\n",
       "      <td>6180.119770</td>\n",
       "      <td>0.143077</td>\n",
       "      <td>3.621789</td>\n",
       "      <td>4.437398</td>\n",
       "    </tr>\n",
       "    <tr>\n",
       "      <th>min</th>\n",
       "      <td>0.000000</td>\n",
       "      <td>1.000000</td>\n",
       "      <td>1.000000</td>\n",
       "      <td>1.000000</td>\n",
       "      <td>9.750000</td>\n",
       "      <td>9.750000</td>\n",
       "    </tr>\n",
       "    <tr>\n",
       "      <th>25%</th>\n",
       "      <td>12154.750000</td>\n",
       "      <td>12155.750000</td>\n",
       "      <td>5337.000000</td>\n",
       "      <td>1.000000</td>\n",
       "      <td>12.750000</td>\n",
       "      <td>12.750000</td>\n",
       "    </tr>\n",
       "    <tr>\n",
       "      <th>50%</th>\n",
       "      <td>24309.500000</td>\n",
       "      <td>24310.500000</td>\n",
       "      <td>10682.500000</td>\n",
       "      <td>1.000000</td>\n",
       "      <td>16.500000</td>\n",
       "      <td>16.500000</td>\n",
       "    </tr>\n",
       "    <tr>\n",
       "      <th>75%</th>\n",
       "      <td>36464.250000</td>\n",
       "      <td>36465.250000</td>\n",
       "      <td>16100.000000</td>\n",
       "      <td>1.000000</td>\n",
       "      <td>20.250000</td>\n",
       "      <td>20.500000</td>\n",
       "    </tr>\n",
       "    <tr>\n",
       "      <th>max</th>\n",
       "      <td>48619.000000</td>\n",
       "      <td>48620.000000</td>\n",
       "      <td>21350.000000</td>\n",
       "      <td>4.000000</td>\n",
       "      <td>35.950000</td>\n",
       "      <td>83.000000</td>\n",
       "    </tr>\n",
       "  </tbody>\n",
       "</table>\n",
       "</div>"
      ],
      "text/plain": [
       "         Unnamed: 0      pizza_id      order_id      quantity    unit_price  \\\n",
       "count  48620.000000  48620.000000  48620.000000  48620.000000  48620.000000   \n",
       "mean   24309.500000  24310.500000  10701.479761      1.019622     16.494132   \n",
       "std    14035.529381  14035.529381   6180.119770      0.143077      3.621789   \n",
       "min        0.000000      1.000000      1.000000      1.000000      9.750000   \n",
       "25%    12154.750000  12155.750000   5337.000000      1.000000     12.750000   \n",
       "50%    24309.500000  24310.500000  10682.500000      1.000000     16.500000   \n",
       "75%    36464.250000  36465.250000  16100.000000      1.000000     20.250000   \n",
       "max    48619.000000  48620.000000  21350.000000      4.000000     35.950000   \n",
       "\n",
       "        total_price  \n",
       "count  48620.000000  \n",
       "mean      16.821474  \n",
       "std        4.437398  \n",
       "min        9.750000  \n",
       "25%       12.750000  \n",
       "50%       16.500000  \n",
       "75%       20.500000  \n",
       "max       83.000000  "
      ]
     },
     "execution_count": 3,
     "metadata": {},
     "output_type": "execute_result"
    }
   ],
   "source": [
    "pizza.describe()"
   ]
  },
  {
   "cell_type": "code",
   "execution_count": 5,
   "id": "f2b7d718",
   "metadata": {},
   "outputs": [
    {
     "name": "stdout",
     "output_type": "stream",
     "text": [
      "Total number of pizzas orders: 48620\n",
      "Total number of people ordering pizzas : 21350\n",
      "Total number of pizzas offered: 32\n",
      "Average count of pizza ordered by a person: 2.28\n",
      "Average count of each pizza sold: 1519.38\n"
     ]
    }
   ],
   "source": [
    "n_totalpizzas = len(pizza)\n",
    "n_totalids = len(pizza['order_id'].unique())\n",
    "n_offered_pizzas = len(pizza['pizza_name'].unique())\n",
    "avg_count_per_pizza = round(n_totalpizzas / n_offered_pizzas, 2)\n",
    "print(f\"Total number of pizzas orders: {n_totalpizzas}\")\n",
    "print(f\"Total number of people ordering pizzas : {n_totalids}\")\n",
    "print(f\"Total number of pizzas offered: {n_offered_pizzas}\")\n",
    "print(f\"Average count of pizza ordered by a person: {round(n_totalpizzas/n_totalids, 2)}\")\n",
    "print(f\"Average count of each pizza sold: {round(n_totalpizzas/n_offered_pizzas, 2)}\")"
   ]
  },
  {
   "cell_type": "code",
   "execution_count": null,
   "id": "3a41ba1e",
   "metadata": {},
   "outputs": [],
   "source": [
    "#pizza['pizza_name_id'] = pizza['pizza_name'].astype('category').cat.codes + 1"
   ]
  },
  {
   "cell_type": "code",
   "execution_count": 8,
   "id": "1ec1c4ff",
   "metadata": {},
   "outputs": [
    {
     "name": "stdout",
     "output_type": "stream",
     "text": [
      "                   pizza_name pizza_size pizza_category  avg_count_per_pizza\n",
      "0  The Barbecue Chicken Pizza          L        Chicken                  967\n",
      "1  The Barbecue Chicken Pizza          M        Chicken                  926\n",
      "2  The Barbecue Chicken Pizza          S        Chicken                  479\n",
      "3          The Big Meat Pizza          S        Classic                 1811\n",
      "4        The Brie Carre Pizza          S        Supreme                  480\n"
     ]
    }
   ],
   "source": [
    "off_pizza_freq = pizza[['pizza_name','pizza_size','pizza_category','unit_price']].groupby(['pizza_name','pizza_size','pizza_category']).count().reset_index()\n",
    "off_pizza_freq.columns = ['pizza_name','pizza_size','pizza_category','avg_count_per_pizza']\n",
    "print(off_pizza_freq.head())"
   ]
  },
  {
   "cell_type": "code",
   "execution_count": 11,
   "id": "6aafef8b",
   "metadata": {},
   "outputs": [
    {
     "data": {
      "text/html": [
       "<div>\n",
       "<style scoped>\n",
       "    .dataframe tbody tr th:only-of-type {\n",
       "        vertical-align: middle;\n",
       "    }\n",
       "\n",
       "    .dataframe tbody tr th {\n",
       "        vertical-align: top;\n",
       "    }\n",
       "\n",
       "    .dataframe thead th {\n",
       "        text-align: right;\n",
       "    }\n",
       "</style>\n",
       "<table border=\"1\" class=\"dataframe\">\n",
       "  <thead>\n",
       "    <tr style=\"text-align: right;\">\n",
       "      <th></th>\n",
       "      <th>pizza_name</th>\n",
       "      <th>pizza_size</th>\n",
       "      <th>pizza_category</th>\n",
       "      <th>quantity</th>\n",
       "    </tr>\n",
       "  </thead>\n",
       "  <tbody>\n",
       "    <tr>\n",
       "      <th>0</th>\n",
       "      <td>The Barbecue Chicken Pizza</td>\n",
       "      <td>L</td>\n",
       "      <td>Chicken</td>\n",
       "      <td>967</td>\n",
       "    </tr>\n",
       "    <tr>\n",
       "      <th>1</th>\n",
       "      <td>The Barbecue Chicken Pizza</td>\n",
       "      <td>M</td>\n",
       "      <td>Chicken</td>\n",
       "      <td>926</td>\n",
       "    </tr>\n",
       "    <tr>\n",
       "      <th>2</th>\n",
       "      <td>The Barbecue Chicken Pizza</td>\n",
       "      <td>S</td>\n",
       "      <td>Chicken</td>\n",
       "      <td>479</td>\n",
       "    </tr>\n",
       "    <tr>\n",
       "      <th>3</th>\n",
       "      <td>The Big Meat Pizza</td>\n",
       "      <td>S</td>\n",
       "      <td>Classic</td>\n",
       "      <td>1811</td>\n",
       "    </tr>\n",
       "    <tr>\n",
       "      <th>4</th>\n",
       "      <td>The Brie Carre Pizza</td>\n",
       "      <td>S</td>\n",
       "      <td>Supreme</td>\n",
       "      <td>480</td>\n",
       "    </tr>\n",
       "    <tr>\n",
       "      <th>...</th>\n",
       "      <td>...</td>\n",
       "      <td>...</td>\n",
       "      <td>...</td>\n",
       "      <td>...</td>\n",
       "    </tr>\n",
       "    <tr>\n",
       "      <th>86</th>\n",
       "      <td>The Thai Chicken Pizza</td>\n",
       "      <td>M</td>\n",
       "      <td>Chicken</td>\n",
       "      <td>474</td>\n",
       "    </tr>\n",
       "    <tr>\n",
       "      <th>87</th>\n",
       "      <td>The Thai Chicken Pizza</td>\n",
       "      <td>S</td>\n",
       "      <td>Chicken</td>\n",
       "      <td>476</td>\n",
       "    </tr>\n",
       "    <tr>\n",
       "      <th>88</th>\n",
       "      <td>The Vegetables + Vegetables Pizza</td>\n",
       "      <td>L</td>\n",
       "      <td>Veggie</td>\n",
       "      <td>423</td>\n",
       "    </tr>\n",
       "    <tr>\n",
       "      <th>89</th>\n",
       "      <td>The Vegetables + Vegetables Pizza</td>\n",
       "      <td>M</td>\n",
       "      <td>Veggie</td>\n",
       "      <td>630</td>\n",
       "    </tr>\n",
       "    <tr>\n",
       "      <th>90</th>\n",
       "      <td>The Vegetables + Vegetables Pizza</td>\n",
       "      <td>S</td>\n",
       "      <td>Veggie</td>\n",
       "      <td>457</td>\n",
       "    </tr>\n",
       "  </tbody>\n",
       "</table>\n",
       "<p>91 rows × 4 columns</p>\n",
       "</div>"
      ],
      "text/plain": [
       "                           pizza_name pizza_size pizza_category  quantity\n",
       "0          The Barbecue Chicken Pizza          L        Chicken       967\n",
       "1          The Barbecue Chicken Pizza          M        Chicken       926\n",
       "2          The Barbecue Chicken Pizza          S        Chicken       479\n",
       "3                  The Big Meat Pizza          S        Classic      1811\n",
       "4                The Brie Carre Pizza          S        Supreme       480\n",
       "..                                ...        ...            ...       ...\n",
       "86             The Thai Chicken Pizza          M        Chicken       474\n",
       "87             The Thai Chicken Pizza          S        Chicken       476\n",
       "88  The Vegetables + Vegetables Pizza          L         Veggie       423\n",
       "89  The Vegetables + Vegetables Pizza          M         Veggie       630\n",
       "90  The Vegetables + Vegetables Pizza          S         Veggie       457\n",
       "\n",
       "[91 rows x 4 columns]"
      ]
     },
     "execution_count": 11,
     "metadata": {},
     "output_type": "execute_result"
    }
   ],
   "source": [
    "count_sales = pizza.groupby(['pizza_name','pizza_size','pizza_category'])['quantity'].count().reset_index()\n",
    "count_sales"
   ]
  },
  {
   "cell_type": "code",
   "execution_count": 14,
   "id": "9c4ea78b",
   "metadata": {},
   "outputs": [
    {
     "name": "stdout",
     "output_type": "stream",
     "text": [
      "Lowest sold pizza: The Greek Pizza (XXL, Classic) with 28 orders\n"
     ]
    }
   ],
   "source": [
    "lowest_sold_pizza = count_sales['quantity'].idxmin()\n",
    "lowest_sold_pizza_name = count_sales.loc[lowest_sold_pizza, 'pizza_name']\n",
    "lowest_sold_pizza_size = count_sales.loc[lowest_sold_pizza, 'pizza_size']\n",
    "lowest_sold_pizza_category = count_sales.loc[lowest_sold_pizza, 'pizza_category']\n",
    "lowest_sold_pizza_count = count_sales.loc[lowest_sold_pizza, 'quantity']\n",
    "print(f\"Lowest sold pizza: {lowest_sold_pizza_name} ({lowest_sold_pizza_size}, {lowest_sold_pizza_category}) with {lowest_sold_pizza_count} orders\")"
   ]
  },
  {
   "cell_type": "code",
   "execution_count": 16,
   "id": "3f7b1d08",
   "metadata": {},
   "outputs": [
    {
     "data": {
      "text/plain": [
       "np.int64(1420)"
      ]
     },
     "execution_count": 16,
     "metadata": {},
     "output_type": "execute_result"
    }
   ],
   "source": [
    "pizza.loc[pizza['pizza_name'] == lowest_sold_pizza_name].head()\n",
    "pizza.loc[pizza['pizza_name'] == lowest_sold_pizza_name, 'quantity'].sum()\n",
    "#pizza.loc[pizza['pizza_name'] == lowest_sold_pizza_name, 'quantity'].sum() / pizza['quantity'].sum()\n",
    "#pizza.loc[pizza['pizza_name'] == lowest_sold_pizza_name, 'quantity'].sum() / pizza['quantity'].sum() * 100"
   ]
  },
  {
   "cell_type": "code",
   "execution_count": 17,
   "id": "d6bc1d74",
   "metadata": {},
   "outputs": [
    {
     "name": "stdout",
     "output_type": "stream",
     "text": [
      "Highest sold pizza: The Big Meat Pizza (S, Classic) with 1811 orders\n"
     ]
    }
   ],
   "source": [
    "highest_sold_pizza = count_sales['quantity'].idxmax()\n",
    "highest_sold_pizza_name = count_sales.loc[highest_sold_pizza, 'pizza_name']\n",
    "highest_sold_pizza_size = count_sales.loc[highest_sold_pizza, 'pizza_size']\n",
    "highest_sold_pizza_category = count_sales.loc[highest_sold_pizza, 'pizza_category']\n",
    "highest_sold_pizza_count = count_sales.loc[highest_sold_pizza, 'quantity']\n",
    "print(f\"Highest sold pizza: {highest_sold_pizza_name} ({highest_sold_pizza_size}, {highest_sold_pizza_category}) with {highest_sold_pizza_count} orders\")"
   ]
  },
  {
   "cell_type": "code",
   "execution_count": 23,
   "id": "2e660a6a",
   "metadata": {},
   "outputs": [
    {
     "data": {
      "text/html": [
       "<div>\n",
       "<style scoped>\n",
       "    .dataframe tbody tr th:only-of-type {\n",
       "        vertical-align: middle;\n",
       "    }\n",
       "\n",
       "    .dataframe tbody tr th {\n",
       "        vertical-align: top;\n",
       "    }\n",
       "\n",
       "    .dataframe thead th {\n",
       "        text-align: right;\n",
       "    }\n",
       "</style>\n",
       "<table border=\"1\" class=\"dataframe\">\n",
       "  <thead>\n",
       "    <tr style=\"text-align: right;\">\n",
       "      <th></th>\n",
       "      <th></th>\n",
       "      <th></th>\n",
       "      <th>sum</th>\n",
       "      <th>mean</th>\n",
       "    </tr>\n",
       "    <tr>\n",
       "      <th>pizza_name</th>\n",
       "      <th>pizza_size</th>\n",
       "      <th>pizza_category</th>\n",
       "      <th></th>\n",
       "      <th></th>\n",
       "    </tr>\n",
       "  </thead>\n",
       "  <tbody>\n",
       "    <tr>\n",
       "      <th rowspan=\"3\" valign=\"top\">The Barbecue Chicken Pizza</th>\n",
       "      <th>L</th>\n",
       "      <th>Chicken</th>\n",
       "      <td>20584.00</td>\n",
       "      <td>21.286453</td>\n",
       "    </tr>\n",
       "    <tr>\n",
       "      <th>M</th>\n",
       "      <th>Chicken</th>\n",
       "      <td>16013.00</td>\n",
       "      <td>17.292657</td>\n",
       "    </tr>\n",
       "    <tr>\n",
       "      <th>S</th>\n",
       "      <th>Chicken</th>\n",
       "      <td>6171.00</td>\n",
       "      <td>12.883090</td>\n",
       "    </tr>\n",
       "    <tr>\n",
       "      <th>The Big Meat Pizza</th>\n",
       "      <th>S</th>\n",
       "      <th>Classic</th>\n",
       "      <td>22968.00</td>\n",
       "      <td>12.682496</td>\n",
       "    </tr>\n",
       "    <tr>\n",
       "      <th>The Brie Carre Pizza</th>\n",
       "      <th>S</th>\n",
       "      <th>Supreme</th>\n",
       "      <td>11588.50</td>\n",
       "      <td>24.142708</td>\n",
       "    </tr>\n",
       "    <tr>\n",
       "      <th>...</th>\n",
       "      <th>...</th>\n",
       "      <th>...</th>\n",
       "      <td>...</td>\n",
       "      <td>...</td>\n",
       "    </tr>\n",
       "    <tr>\n",
       "      <th rowspan=\"2\" valign=\"top\">The Thai Chicken Pizza</th>\n",
       "      <th>M</th>\n",
       "      <th>Chicken</th>\n",
       "      <td>8056.75</td>\n",
       "      <td>16.997363</td>\n",
       "    </tr>\n",
       "    <tr>\n",
       "      <th>S</th>\n",
       "      <th>Chicken</th>\n",
       "      <td>6120.00</td>\n",
       "      <td>12.857143</td>\n",
       "    </tr>\n",
       "    <tr>\n",
       "      <th rowspan=\"3\" valign=\"top\">The Vegetables + Vegetables Pizza</th>\n",
       "      <th>L</th>\n",
       "      <th>Veggie</th>\n",
       "      <td>8646.75</td>\n",
       "      <td>20.441489</td>\n",
       "    </tr>\n",
       "    <tr>\n",
       "      <th>M</th>\n",
       "      <th>Veggie</th>\n",
       "      <td>10160.00</td>\n",
       "      <td>16.126984</td>\n",
       "    </tr>\n",
       "    <tr>\n",
       "      <th>S</th>\n",
       "      <th>Veggie</th>\n",
       "      <td>5568.00</td>\n",
       "      <td>12.183807</td>\n",
       "    </tr>\n",
       "  </tbody>\n",
       "</table>\n",
       "<p>91 rows × 2 columns</p>\n",
       "</div>"
      ],
      "text/plain": [
       "                                                                  sum  \\\n",
       "pizza_name                        pizza_size pizza_category             \n",
       "The Barbecue Chicken Pizza        L          Chicken         20584.00   \n",
       "                                  M          Chicken         16013.00   \n",
       "                                  S          Chicken          6171.00   \n",
       "The Big Meat Pizza                S          Classic         22968.00   \n",
       "The Brie Carre Pizza              S          Supreme         11588.50   \n",
       "...                                                               ...   \n",
       "The Thai Chicken Pizza            M          Chicken          8056.75   \n",
       "                                  S          Chicken          6120.00   \n",
       "The Vegetables + Vegetables Pizza L          Veggie           8646.75   \n",
       "                                  M          Veggie          10160.00   \n",
       "                                  S          Veggie           5568.00   \n",
       "\n",
       "                                                                  mean  \n",
       "pizza_name                        pizza_size pizza_category             \n",
       "The Barbecue Chicken Pizza        L          Chicken         21.286453  \n",
       "                                  M          Chicken         17.292657  \n",
       "                                  S          Chicken         12.883090  \n",
       "The Big Meat Pizza                S          Classic         12.682496  \n",
       "The Brie Carre Pizza              S          Supreme         24.142708  \n",
       "...                                                                ...  \n",
       "The Thai Chicken Pizza            M          Chicken         16.997363  \n",
       "                                  S          Chicken         12.857143  \n",
       "The Vegetables + Vegetables Pizza L          Veggie          20.441489  \n",
       "                                  M          Veggie          16.126984  \n",
       "                                  S          Veggie          12.183807  \n",
       "\n",
       "[91 rows x 2 columns]"
      ]
     },
     "execution_count": 23,
     "metadata": {},
     "output_type": "execute_result"
    }
   ],
   "source": [
    "pizza_stats = pizza.groupby(['pizza_name', 'pizza_size', 'pizza_category'])[['total_price']].agg(['sum','mean'])\n",
    "pizza_stats.columns = pizza_stats.columns.droplevel()\n",
    "\n",
    "pizza_stats"
   ]
  },
  {
   "cell_type": "code",
   "execution_count": null,
   "id": "bcaa0750",
   "metadata": {},
   "outputs": [],
   "source": [
    "import pandas as pd\n",
    "import numpy as np\n",
    "from scipy.sparse import csr_matrix\n",
    "from sklearn.neighbors import NearestNeighbors\n",
    "import streamlit as st\n",
    "\n",
    "# Load data\n",
    "df = pd.read_csv(\"Pizza_sales_dataset_proper.csv\")\n",
    "\n",
    "# Composite pizza item name\n",
    "df['pizza_item'] = df['pizza_category'] + \"_\" + df['pizza_size'] + \"_\" + df['pizza_name']\n",
    "\n",
    "# Use total_price as a signal of preference\n",
    "pizza_data = df[['order_id', 'pizza_item', 'total_price']].copy()\n",
    "pizza_data.columns = ['order_id', 'pizza_item', 'total_price']\n",
    "\n"
   ]
  },
  {
   "cell_type": "code",
   "execution_count": 38,
   "id": "43446294",
   "metadata": {},
   "outputs": [],
   "source": [
    "def create_matrix(df):\n",
    "    N = len(df['userId'].unique())\n",
    "    M = len(df['itemId'].unique())\n",
    "\n",
    "    user_mapper = dict(zip(np.unique(df[\"userId\"]), list(range(N))))\n",
    "    item_mapper = dict(zip(np.unique(df[\"itemId\"]), list(range(M))))\n",
    "\n",
    "    user_inv_mapper = dict(zip(list(range(N)), np.unique(df[\"userId\"])))\n",
    "    item_inv_mapper = dict(zip(list(range(M)), np.unique(df[\"itemId\"])))\n",
    "\n",
    "    user_index = [user_mapper[i] for i in df['userId']]\n",
    "    item_index = [item_mapper[i] for i in df['itemId']]\n",
    "\n",
    "    X = csr_matrix((df[\"rating\"], (item_index, user_index)), shape=(M, N))\n",
    "    return X, item_mapper, item_inv_mapper\n",
    "\n",
    "X, item_mapper, item_inv_mapper = create_matrix(pizza_data)\n",
    "\n"
   ]
  },
  {
   "cell_type": "code",
   "execution_count": 39,
   "id": "f8c6444d",
   "metadata": {},
   "outputs": [],
   "source": [
    "def find_similar_pizzas(selected_pizza, X, k=5, metric='cosine'):\n",
    "    if selected_pizza not in item_mapper:\n",
    "        print(f\"Pizza '{selected_pizza}' not found!\")\n",
    "        return []\n",
    "\n",
    "    index = item_mapper[selected_pizza]\n",
    "    pizza_vec = X[index]\n",
    "\n",
    "    if pizza_vec.nnz == 0:\n",
    "        print(f\"No data available for '{selected_pizza}'\")\n",
    "        return []\n",
    "\n",
    "    kNN = NearestNeighbors(n_neighbors=min(k + 1, X.shape[0]), algorithm='brute', metric=metric)\n",
    "    kNN.fit(X)\n",
    "    pizza_vec = pizza_vec.reshape(1, -1)\n",
    "\n",
    "    try:\n",
    "        neighbors = kNN.kneighbors(pizza_vec, return_distance=False).flatten()\n",
    "    except:\n",
    "        print(\"Failed to find neighbors\")\n",
    "        return []\n",
    "\n",
    "    neighbors = [item_inv_mapper[i] for i in neighbors if i != index]\n",
    "    return neighbors[:k]\n",
    "\n"
   ]
  },
  {
   "cell_type": "code",
   "execution_count": 41,
   "id": "9d33045f",
   "metadata": {},
   "outputs": [],
   "source": [
    "def recommend_items_for_user(user_id, X, k=5):\n",
    "    if user_id not in user_mapper:\n",
    "        print(\"User not found!\")\n",
    "        return\n",
    "\n",
    "    user_idx = user_mapper[user_id]\n",
    "    user_ratings = X[:, user_idx].toarray().flatten()\n",
    "\n",
    "    if np.all(user_ratings == 0):\n",
    "        print(\"This user hasn't bought anything yet!\")\n",
    "        return\n",
    "\n",
    "    top_item_idx = np.argmax(user_ratings)\n",
    "    top_item_id = item_inv_mapper[top_item_idx]\n",
    "\n",
    "    print(f\"Since you ordered '{top_item_id}', you might also like:\")\n",
    "    similar_items = find_similar_items(top_item_id, X, k)\n",
    "\n",
    "    if not similar_items:\n",
    "        print(\"Sorry, no similar pizzas found.\")\n",
    "        return\n",
    "\n",
    "    for item in similar_items:\n",
    "        print(f\"- {item}\")\n"
   ]
  },
  {
   "cell_type": "code",
   "execution_count": 40,
   "id": "ec8da96e",
   "metadata": {},
   "outputs": [
    {
     "name": "stdout",
     "output_type": "stream",
     "text": [
      "Because you selected: Classic_M_The Hawaiian Pizza\n",
      "1. Classic_S_The Big Meat Pizza\n",
      "2. Chicken_L_The Barbecue Chicken Pizza\n",
      "3. Chicken_M_The Barbecue Chicken Pizza\n",
      "4. Veggie_L_The Five Cheese Pizza\n",
      "5. Supreme_L_The Pepper Salami Pizza\n"
     ]
    }
   ],
   "source": [
    "# Pick a pizza from the unique set\n",
    "example_pizza = df['pizza_item'].unique()[0]  # or let user choose\n",
    "\n",
    "print(f\"Because you selected: {example_pizza}\")\n",
    "similar = find_similar_pizzas(example_pizza, X, k=5)\n",
    "\n",
    "for i, item in enumerate(similar, 1):\n",
    "    print(f\"{i}. {item}\")\n"
   ]
  },
  {
   "cell_type": "code",
   "execution_count": 36,
   "id": "68ae6b0a",
   "metadata": {},
   "outputs": [
    {
     "name": "stdout",
     "output_type": "stream",
     "text": [
      "Since you ordered 'Chicken_L_The Thai Chicken Pizza', you might also like:\n",
      "Not enough neighbors found for 'Chicken_L_The Thai Chicken Pizza'\n",
      "Sorry, no similar pizzas found.\n"
     ]
    }
   ],
   "source": [
    "recommend_items_for_user(user_id=2, X=X, k=5)\n"
   ]
  },
  {
   "cell_type": "code",
   "execution_count": null,
   "id": "0d50343e",
   "metadata": {},
   "outputs": [],
   "source": []
  }
 ],
 "metadata": {
  "kernelspec": {
   "display_name": "Python 3",
   "language": "python",
   "name": "python3"
  },
  "language_info": {
   "codemirror_mode": {
    "name": "ipython",
    "version": 3
   },
   "file_extension": ".py",
   "mimetype": "text/x-python",
   "name": "python",
   "nbconvert_exporter": "python",
   "pygments_lexer": "ipython3",
   "version": "3.12.9"
  }
 },
 "nbformat": 4,
 "nbformat_minor": 5
}
